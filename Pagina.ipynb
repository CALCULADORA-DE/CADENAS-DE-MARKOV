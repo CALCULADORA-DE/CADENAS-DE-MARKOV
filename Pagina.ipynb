{
 "cells": [
  {
   "cell_type": "markdown",
   "metadata": {
    "collapsed": false
   },
   "source": [
    "\n",
    "<img src=\"buena.png\">"
   ]
  },
  {
   "cell_type": "markdown",
   "metadata": {},
   "source": [
    "#   <font color='blue'>$\\bullet$$\\bullet$$\\bullet$$\\bullet$$\\bullet$$\\bullet$$\\bullet$$\\bullet$$\\bullet$$\\bullet$$\\bullet$$\\bullet$$\\bullet$$\\bullet$$\\bullet$$\\bullet$$\\bullet$$\\bullet$$\\bullet$$\\bullet$$\\bullet$$\\bullet$$\\bullet$$\\bullet$$\\bullet$$\\bullet$$\\bullet$$\\bullet$$\\bullet$$\\bullet$$\\bullet$$\\bullet$$\\bullet$$\\bullet$$\\bullet$$\\bullet$$\\bullet$$\\bullet$$\\bullet$$\\bullet$$\\bullet$$\\bullet$$\\bullet$$\\bullet$$\\bullet$$\\bullet$$\\bullet$$\\bullet$$\\bullet$$\\bullet$$\\bullet$$\\bullet$$\\bullet$$\\bullet$$\\bullet$$\\bullet$$\\bullet$$\\bullet$$\\bullet$$\\bullet$$\\bullet$$\\bullet$$\\bullet$$\\bullet$$\\bullet$$\\bullet$$\\bullet$$\\bullet$$\\bullet$$\\bullet$$\\bullet$$\\bullet$$\\bullet$$\\bullet$$\\bullet$$\\bullet$$\\bullet$$\\bullet$$\\bullet$$\\bullet$$\\bullet$$\\bullet$$\\bullet$$\\bullet$$\\bullet$$\\bullet$$\\bullet$$\\bullet$$\\bullet$</font>\n"
   ]
  },
  {
   "cell_type": "markdown",
   "metadata": {},
   "source": [
    "<img src=\"buena3.png\">"
   ]
  },
  {
   "cell_type": "markdown",
   "metadata": {},
   "source": [
    "#   <font color='blue'>$\\bullet$$\\bullet$$\\bullet$$\\bullet$$\\bullet$$\\bullet$$\\bullet$$\\bullet$$\\bullet$$\\bullet$$\\bullet$$\\bullet$$\\bullet$$\\bullet$$\\bullet$$\\bullet$$\\bullet$$\\bullet$$\\bullet$$\\bullet$$\\bullet$$\\bullet$$\\bullet$$\\bullet$$\\bullet$$\\bullet$$\\bullet$$\\bullet$$\\bullet$$\\bullet$$\\bullet$$\\bullet$$\\bullet$$\\bullet$$\\bullet$$\\bullet$$\\bullet$$\\bullet$$\\bullet$$\\bullet$$\\bullet$$\\bullet$$\\bullet$$\\bullet$$\\bullet$$\\bullet$$\\bullet$$\\bullet$$\\bullet$$\\bullet$$\\bullet$$\\bullet$$\\bullet$$\\bullet$$\\bullet$$\\bullet$$\\bullet$$\\bullet$$\\bullet$$\\bullet$$\\bullet$$\\bullet$$\\bullet$$\\bullet$$\\bullet$$\\bullet$$\\bullet$$\\bullet$$\\bullet$$\\bullet$$\\bullet$$\\bullet$$\\bullet$$\\bullet$$\\bullet$$\\bullet$$\\bullet$$\\bullet$$\\bullet$$\\bullet$$\\bullet$$\\bullet$$\\bullet$$\\bullet$$\\bullet$$\\bullet$$\\bullet$$\\bullet$$\\bullet$</font>\n",
    "\n"
   ]
  },
  {
   "cell_type": "markdown",
   "metadata": {
    "collapsed": true
   },
   "source": [
    "#  $\\hspace{2.5cm}$"
   ]
  },
  {
   "cell_type": "markdown",
   "metadata": {},
   "source": [
    "#  $\\hspace{2.5cm}$"
   ]
  },
  {
   "cell_type": "markdown",
   "metadata": {},
   "source": [
    "<font color='green'>$\\fbox{ $\\hspace{2.5cm}$ AUTORES $\\hspace{2.5cm}$ }$</font> "
   ]
  },
  {
   "cell_type": "markdown",
   "metadata": {},
   "source": [
    "<font color='red'>$\\rhd$</font><font color='black'> $\\textbf{Saylí María Sigarreta Ricardo}$ </font>"
   ]
  },
  {
   "cell_type": "markdown",
   "metadata": {},
   "source": [
    "<font color='red'>$\\textbf{saylisigarretaricardo@gmail.com}$</font>"
   ]
  },
  {
   "cell_type": "markdown",
   "metadata": {},
   "source": [
    "<font color='red'>$\\rhd$</font><font color='black'> $\\textbf{Saylé Caridad Sigarreta Ricardo}$ </font>"
   ]
  },
  {
   "cell_type": "markdown",
   "metadata": {},
   "source": [
    "<font color='red'> $\\textbf{sayleuniversidad@gmail.com}$</font>"
   ]
  },
  {
   "cell_type": "markdown",
   "metadata": {},
   "source": [
    "<font color='red'>$\\rhd$</font><font color='black'> $\\textbf{Dr. Hugo Cruz Suárez}$</font>"
   ]
  },
  {
   "cell_type": "markdown",
   "metadata": {},
   "source": [
    "<font color='red'> $\\textbf{hcs@fcfm.buap.mx}$</font>"
   ]
  },
  {
   "cell_type": "markdown",
   "metadata": {},
   "source": [
    "#  $\\hspace{2.5cm}$"
   ]
  },
  {
   "cell_type": "markdown",
   "metadata": {},
   "source": [
    "#  $\\hspace{2.5cm}$"
   ]
  },
  {
   "cell_type": "markdown",
   "metadata": {},
   "source": [
    "<img src=\"buena6.png\">"
   ]
  },
  {
   "cell_type": "markdown",
   "metadata": {},
   "source": [
    "#  $\\hspace{2.5cm}$"
   ]
  },
  {
   "cell_type": "markdown",
   "metadata": {},
   "source": [
    " <font color='green'>$\\Longrightarrow$</font> Para correr los programas sin necesidad de instalar Python , se cuenta con la opción de $\\textbf{Terminales Online}$."
   ]
  },
  {
   "cell_type": "markdown",
   "metadata": {},
   "source": [
    " <font color='blue'>$\\fbox{ $\\hspace{2.5cm}$ https://repl.it/languages/python3 $\\hspace{2.5cm}$ }$</font>"
   ]
  },
  {
   "cell_type": "markdown",
   "metadata": {},
   "source": [
    "<img src=\"buena13.png\">"
   ]
  },
  {
   "cell_type": "markdown",
   "metadata": {},
   "source": [
    "#  $\\hspace{2.5cm}$"
   ]
  },
  {
   "cell_type": "markdown",
   "metadata": {},
   "source": [
    "<font color='green'>$\\Longrightarrow$</font> Si los datos de la Matriz de Transición corresponden a un archivo con extensión $\\textbf{\"xlsx\"}$ (u otras extensiones ),sólo se deberá cambiar a la extensión $\\textbf{\"txt\"}$."
   ]
  },
  {
   "cell_type": "markdown",
   "metadata": {},
   "source": [
    "#  $\\hspace{2.5cm}$"
   ]
  },
  {
   "cell_type": "markdown",
   "metadata": {},
   "source": [
    "#  $\\hspace{2.5cm}$"
   ]
  },
  {
   "cell_type": "markdown",
   "metadata": {},
   "source": [
    "<img src=\"buena2.png\">"
   ]
  },
  {
   "cell_type": "markdown",
   "metadata": {},
   "source": [
    "<img src=\"buena4.png\">"
   ]
  },
  {
   "cell_type": "markdown",
   "metadata": {},
   "source": [
    " #  $\\hspace{2.5cm}$"
   ]
  },
  {
   "cell_type": "markdown",
   "metadata": {},
   "source": [
    " #  $\\hspace{2.5cm}$"
   ]
  },
  {
   "cell_type": "markdown",
   "metadata": {},
   "source": [
    "# <font color='black'>$\\boxplus $</font>$\\hspace{0.5cm}$<font color='blue'> $\\mathbb{ALGORITMO\\hspace{0.5cm}1}$</font>"
   ]
  },
  {
   "cell_type": "markdown",
   "metadata": {},
   "source": [
    "<font color='green'>$\\fbox{ $\\hspace{2.5cm}$ Algoritmo CCM $\\hspace{2.5cm}$ }$</font> "
   ]
  },
  {
   "cell_type": "markdown",
   "metadata": {},
   "source": [
    "Este algortimo clasifica un vértice $\\textbf{v}$ de la $\\textbf{Cadena de Markov}$ analizada en :\n",
    "\n"
   ]
  },
  {
   "cell_type": "markdown",
   "metadata": {},
   "source": [
    "$\\circ$ Estado Recurrente\n"
   ]
  },
  {
   "cell_type": "markdown",
   "metadata": {},
   "source": [
    "$\\circ$ Estado Absorbente"
   ]
  },
  {
   "cell_type": "markdown",
   "metadata": {},
   "source": [
    "$\\circ$ Estado Transitorio"
   ]
  },
  {
   "cell_type": "markdown",
   "metadata": {},
   "source": [
    " #  $\\hspace{2.5cm}$"
   ]
  },
  {
   "cell_type": "markdown",
   "metadata": {},
   "source": [
    " <font color='red'>$\\fbox{ $\\hspace{2.5cm}$ Algoritmo Implementado en lenguaje Python $\\hspace{2.5cm}$ }$</font> "
   ]
  },
  {
   "cell_type": "code",
   "execution_count": null,
   "metadata": {
    "collapsed": true
   },
   "outputs": [],
   "source": [
    "#Importación de paqueterías\n",
    "import numpy as np\n",
    "import networkx as nx \n",
    "import matplotlib.pyplot as plt\n",
    "\n",
    "#FUNCIONES\n",
    "\n",
    "#Función que dado el vértice i arroja un arreglo con todos los vértices para los cuáles existe un camino que los une \n",
    "def Conectado(i,D,n):\n",
    "    #Inicio el contador en 0\n",
    "    t=0\n",
    "    #EL número de vértices activos el tiempo 0\n",
    "    St=1\n",
    "    M=np.copy(D)\n",
    "    activos=np.array([i],dtype=int)\n",
    "    inactivos=np.array([],dtype=int)\n",
    "    posicion=i \n",
    "    M[: ,posicion :posicion+1]=0 #Se evita que se vuelvan a comunicar con i\n",
    "    while  St>0:\n",
    "        #LOS ACTIVOS SON LOS QUE TIENEN 1 EN ESA FILA, POR ESO SUMO\n",
    "        Xt=np.sum(M[i])\n",
    "        St=St+Xt-1#St\n",
    "        t=t+1#Aumento el contador\n",
    "        #Hago el conjunto de los nuevos activos\n",
    "        nuevosactivos=[]\n",
    "        for j in range(n):\n",
    "            #Las nuevas comunicaciones sean con los neutrales    \n",
    "            if M[i][j]==1: \n",
    "                #Guardo la posición de los que tenian 1\n",
    "                nuevosactivos.append(int(j))\n",
    "                M[: ,j :j+1]=0#Si se volvió activo elimino la opción de que se comuniquen con el\n",
    "        #le quité el que ya pasó a inactivo y agrego los nuevos activos\n",
    "        activos=np.append(np.delete(activos, 0),nuevosactivos)#Siempre cero porque así lo elegí\n",
    "        inactivos=np.append(inactivos, i)#Agrego  a inactivos el explorado\n",
    "        #Puedo elegir un activo si existen aún\n",
    "        if len(activos)!=0:\n",
    "            #EN EL SIGUIENTE PASO DE LOS ACTIVOS SIEMPRE ELIGIRÉ EL PRIMERO DE MI LISTAS DE ACTIVOS\n",
    "            i=int(activos[0])\n",
    "    \n",
    "  \n",
    "    return(inactivos)\n",
    "\n",
    " \n",
    "#Función que dado un vértice i arroja su clasificación referente a RECURRENTE , ABSORBENTE , TRANSITORIO  \n",
    "def Clasificacion(x,D):\n",
    "    #Primero preguntamos si el estado sólo se comunica con el mismo, como la matriz es binaria para esto debe pasar que sea 1 en la posición y 0 en las restantes\n",
    "    if D[x,x]==1 and np.sum(D[x])==1:\n",
    "        return(\"ABSORBENTE (A) \")\n",
    "    #Como el estado no es absorbente se prosigue con los dos posibles casos restantes\n",
    "    n=len(D[1])\n",
    "    # cx es el arreglo que guarda todos los estados para los cuales partiendo de x hay un camino a ellos\n",
    "    cx=Conectado(x,D,n)\n",
    "    #En el ciclo a continuación recorro los elementos del arreglo cx\n",
    "    for j in cx:\n",
    "        #Para cada elemento de cx distinto de x me interesa saber si partiendo de el ahora hay un camino que termine en x\n",
    "        if j!=x:\n",
    "            cj=Conectado(j,D,n)\n",
    "            #Para esto llamo a la función en j \n",
    "            #Ahora el arreglo cj de forma análoga contiene los vértices para los cuáles existe un camino que los une (j - x)\n",
    "            #Si x no está en ese arreglo , es decir no existe un camino que los une (j - x)\n",
    "            if (x in cj)==False:\n",
    "                #Hemos encontrado un camino partiende de x de no retorno a x , (x---j ya no hay retorno)\n",
    "                #Mando a pantalla el vértice en el cuál está este camino de no retorno\n",
    "                print(\"Utilizando el vértice %i\"%j)\n",
    "                #Mando a pantalla que es Transitorio\n",
    "                return(\"TRANSITORIO (T) \")\n",
    "        \n",
    "    #Si se llega a este punto es que se salió del for sin retornar nada es decir \n",
    "    #x está en todos los arreglos cj , es decir no existe un camino de no retorno, por eso x es recurrente \n",
    "    # Y tenemos una clase utilizando que si x es recurrente y x se comunica con y entonces y es recurrente \n",
    "    print(\"La clase es\")\n",
    "    print(cx)\n",
    "    return(\"RECURRENTE (R) \")\n",
    "\n",
    "#INICIO DEL PROGRAMA\n",
    "\n",
    "#IMPORTO LA MATRIZ \n",
    "sistema=np.loadtxt(\"nombredelarchivo.txt\")\n",
    "P=np.array(sistema[:])\n",
    "print(\"La Matriz de Transición importada es \\n\")\n",
    "print(P)\n",
    "print(\"\\n\")\n",
    "#Se convierte la Matriz de Transición a una Matriz D de Adyacencia\n",
    "D=np.copy(P)\n",
    "n=len(D[1])\n",
    "for i in range(n):\n",
    "    for j in range(n):\n",
    "        if P[i,j]>0:\n",
    "            D[i,j]=1\n",
    "\n",
    "print(\"La Matriz de Adyacencia asociada es \\n\")\n",
    "print(D)\n",
    "print(\"\\n\")\n",
    "\n",
    "#DIBUJAR EL GRAFO\n",
    "print(\"El grafo es: \\n\")\n",
    "G = nx.DiGraph()\n",
    "print(\"LEYENDA:\")\n",
    "print(\"ROJO: Absorbente\")\n",
    "print(\"AZUL: Puede acceder a sí mismo\")\n",
    "print(\"VERDE: No puede acceder a sí mismo\\n\")\n",
    "#Nodos\n",
    "n=len(D[1])\n",
    "vertices=np.arange(n)\n",
    "G.add_nodes_from(vertices)\n",
    "\n",
    "color_map = []\n",
    "for node in G:\n",
    "    if D[node][node]==1 and np.sum(D[node])==1:\n",
    "        color_map.append('red')\n",
    "    elif D[node][node]==1:\n",
    "        color_map.append('blue')\n",
    "        \n",
    "    else:\n",
    "        color_map.append('green')\n",
    "#Aristas\n",
    "for i in range(n):\n",
    "    for j in range(n):\n",
    "        if D[i][j]==1:\n",
    "           \n",
    "            G.add_edge(vertices[i],vertices[j],weight=4)\n",
    "        \n",
    "#INDICACIONES  \n",
    "nx.draw(G,node_color=color_map, with_labels=True)\n",
    "plt.show()\n",
    "\n",
    "#DATOS\n",
    "x=int(input(\"Vértice que desee clasificar ----> \"))\n",
    "print( Clasificacion(x,D) )\n",
    "\n",
    "\n"
   ]
  },
  {
   "cell_type": "markdown",
   "metadata": {},
   "source": [
    " #  $\\hspace{2.5cm}$"
   ]
  },
  {
   "cell_type": "markdown",
   "metadata": {},
   "source": [
    "# <font color='black'>$\\boxplus $</font>$\\hspace{0.5cm}$<font color='blue'> $\\mathbb{ALGORITMO\\hspace{0.5cm}1 \\hspace{0.5cm} GENERAL }$   </font>"
   ]
  },
  {
   "cell_type": "markdown",
   "metadata": {},
   "source": [
    "Este algortimo clasifica $\\textbf{TODOS}$ los vértice de la $\\textbf{Cadena de Markov}$ analizada."
   ]
  },
  {
   "cell_type": "markdown",
   "metadata": {},
   "source": [
    " #  $\\hspace{2.5cm}$"
   ]
  },
  {
   "cell_type": "markdown",
   "metadata": {},
   "source": [
    "<font color='red'>$\\fbox{ $\\hspace{2.5cm}$ Algoritmo Implementado en lenguaje Python $\\hspace{2.5cm}$ }$</font> "
   ]
  },
  {
   "cell_type": "code",
   "execution_count": null,
   "metadata": {
    "collapsed": true
   },
   "outputs": [],
   "source": [
    "#Importación de paqueterías\n",
    "import numpy as np\n",
    "import networkx as nx \n",
    "import matplotlib.pyplot as plt\n",
    "\n",
    "#FUNCIONES\n",
    "\n",
    "#Función que dado el vértice i arroja un arreglo con todos los vértices para los cuáles existe un camino que los une \n",
    "def Conectado(i,D,n):\n",
    "    #Inicio el contador en 0\n",
    "    t=0\n",
    "    #EL número de vértices activos el tiempo 0\n",
    "    St=1\n",
    "    M=np.copy(D)\n",
    "    activos=np.array([i],dtype=int)\n",
    "    inactivos=np.array([],dtype=int)\n",
    "    posicion=i \n",
    "    M[: ,posicion :posicion+1]=0 #Se evita que se vuelvan a comunicar con i\n",
    "    while  St>0:\n",
    "        #LOS ACTIVOS SON LOS QUE TIENEN 1 EN ESA FILA, POR ESO SUMO\n",
    "        Xt=np.sum(M[i])\n",
    "        St=St+Xt-1#St\n",
    "        t=t+1#Aumento el contador\n",
    "        #Hago el conjunto de los nuevos activos\n",
    "        nuevosactivos=[]\n",
    "        for j in range(n):\n",
    "            #Las nuevas comunicaciones sean con los neutrales    \n",
    "            if M[i][j]==1: \n",
    "                #Guardo la posición de los que tenian 1\n",
    "                nuevosactivos.append(int(j))\n",
    "                M[: ,j :j+1]=0#Si se volvió activo elimino la opción de que se comuniquen con el\n",
    "        #le quité el que ya pasó a inactivo y agrego los nuevos activos\n",
    "        activos=np.append(np.delete(activos, 0),nuevosactivos)#Siempre cero porque así lo elegí\n",
    "        inactivos=np.append(inactivos, i)#Agrego  a inactivos el explorado\n",
    "        #Puedo elegir un activo si existen aún\n",
    "        if len(activos)!=0:\n",
    "            #EN EL SIGUIENTE PASO DE LOS ACTIVOS SIEMPRE ELIGIRÉ EL PRIMERO DE MI LISTAS DE ACTIVOS\n",
    "            i=int(activos[0])\n",
    "    \n",
    "  \n",
    "    return(inactivos)\n",
    "\n",
    "\n",
    "#Función que dado un vértice i arroja su clasificación referente a RECURRENTE , ABSORBENTE , TRANSITORIO  \n",
    "def Clasificacion(x,D):\n",
    "    #Primero preguntamos si el estado sólo se comunica con el mismo, como la matriz es binaria para esto debe pasar que sea 1 en la posición y 0 en las restantes\n",
    "    if D[x,x]==1 and np.sum(D[x])==1:\n",
    "        return(\"ABSORBENTE (A) \")\n",
    "    #Como el estado no es absorbente se prosigue con los dos posibles casos restantes\n",
    "    n=len(D[1])\n",
    "    # cx es el arreglo que guarda todos los estados para los cuales partiendo de x hay un camino a ellos\n",
    "    cx=Conectado(x,D,n)\n",
    "    #En el ciclo a continuación recorro los elementos del arreglo cx\n",
    "    for j in cx:\n",
    "        #Para cada elemento de cx distinto de x me interesa saber si partiendo de el ahora hay un camino que termine en x\n",
    "        if j!=x:\n",
    "            cj=Conectado(j,D,n)\n",
    "            #Para esto llamo a la función en j \n",
    "            #Ahora el arreglo cj de forma análoga contiene los vértices para los cuáles existe un camino que los une (j - x)\n",
    "            #Si x no está en ese arreglo , es decir no existe un camino que los une (j - x)\n",
    "            if (x in cj)==False:\n",
    "                #Hemos encontrado un camino partiende de x de no retorno a x , (x---j ya no hay retorno)\n",
    "                #Mando a pantalla el vértice en el cuál está este camino de no retorno\n",
    "                print(\"Utilizando el vértice %i\"%j)\n",
    "                #Mando a pantalla que es Transitorio\n",
    "                return(\"TRANSITORIO (T) \")\n",
    "        \n",
    "    #Si se llega a este punto es que se salió del for sin retornar nada es decir \n",
    "    #x está en todos los arreglos cj , es decir no existe un camino de no retorno, por eso x es recurrente \n",
    "    # Y tenemos una clase utilizando que si x es recurrente y x se comunica con y entonces y es recurrente \n",
    "    print(\"La clase es\")\n",
    "    print(cx)\n",
    "    return(\"RECURRENTE (R) \")\n",
    "\n",
    "\n",
    "#INICIO DEL PROGRAMA\n",
    " \n",
    "#IMPORTO LA MATRIZ \n",
    "sistema=np.loadtxt(\"nombredelarchivo.txt\")\n",
    "P=np.array(sistema[:])\n",
    "print(\"La Matriz de Transición importada es \\n\")\n",
    "print(P)\n",
    "print(\"\\n\")\n",
    "#Se convierte la Matriz de Transición a una Matriz D de Adyacencia\n",
    "D=np.copy(P)\n",
    "n=len(D[1])\n",
    "for i in range(n):\n",
    "    for j in range(n):\n",
    "        if P[i,j]>0:\n",
    "            D[i,j]=1\n",
    "\n",
    "print(\"La Matriz de Adyacencia asociada es \\n\")\n",
    "print(D)\n",
    "print(\"\\n\")\n",
    "\n",
    "#DIBUJAR EL GRAFO\n",
    "print(\"El grafo es: \\n\")\n",
    "G = nx.DiGraph()\n",
    "print(\"LEYENDA:\")\n",
    "print(\"ROJO: Absorbente\")\n",
    "print(\"AZUL: Puede acceder a sí mismo\")\n",
    "print(\"VERDE: No puede acceder a sí mismo\\n\")\n",
    "#Nodos\n",
    "n=len(D[1])\n",
    "vertices=np.arange(n)\n",
    "G.add_nodes_from(vertices)\n",
    "\n",
    "color_map = []\n",
    "for node in G:\n",
    "    if D[node][node]==1 and np.sum(D[node])==1:\n",
    "        color_map.append('red')\n",
    "    elif D[node][node]==1:\n",
    "        color_map.append('blue')\n",
    "        \n",
    "    else:\n",
    "        color_map.append('green')\n",
    "#Aristas\n",
    "for i in range(n):\n",
    "    for j in range(n):\n",
    "        if D[i][j]==1:\n",
    "           \n",
    "            G.add_edge(vertices[i],vertices[j],weight=4)\n",
    "        \n",
    "#INDICACIONES  \n",
    "nx.draw(G,node_color=color_map, with_labels=True)\n",
    "plt.show()\n",
    "\n",
    "#DATOS\n",
    "#MANDA A CACULAR LA CLASIFICACIÓN DE TODOS LOS VÉRTICES \n",
    "for x in range(n):\n",
    "    print(\"Estado\",x)\n",
    "    print(Clasificacion(x,D))\n",
    "    print(\"------------------\")\n",
    "\n",
    "\n",
    "\n",
    "\n",
    "\n"
   ]
  },
  {
   "cell_type": "markdown",
   "metadata": {},
   "source": [
    " #  $\\hspace{2.5cm}$"
   ]
  },
  {
   "cell_type": "markdown",
   "metadata": {},
   "source": [
    "# <font color='black'>$\\boxplus $</font>$\\hspace{0.5cm}$<font color='blue'> $\\mathbb{ALGORITMO\\hspace{0.5cm}2}$   </font>"
   ]
  },
  {
   "cell_type": "markdown",
   "metadata": {},
   "source": [
    "<font color='green'>$\\fbox{ $\\hspace{2.5cm}$ Algoritmo CIR $\\hspace{2.5cm}$ }$</font> "
   ]
  },
  {
   "cell_type": "markdown",
   "metadata": {},
   "source": [
    "Este algortimo clasifica la $\\textbf{Cadena de Markov}$ analizada en :\n",
    "\n"
   ]
  },
  {
   "cell_type": "markdown",
   "metadata": {},
   "source": [
    "$\\circ$ Cadena Irreducible"
   ]
  },
  {
   "cell_type": "markdown",
   "metadata": {},
   "source": [
    "$\\circ$ Cadena Reducible"
   ]
  },
  {
   "cell_type": "markdown",
   "metadata": {},
   "source": [
    " #  $\\hspace{2.5cm}$"
   ]
  },
  {
   "cell_type": "markdown",
   "metadata": {},
   "source": [
    "<font color='red'>$\\fbox{ $\\hspace{2.5cm}$ Algoritmo Implementado en lenguaje Python $\\hspace{2.5cm}$ }$</font> "
   ]
  },
  {
   "cell_type": "code",
   "execution_count": null,
   "metadata": {
    "collapsed": true
   },
   "outputs": [],
   "source": [
    "#Importación de paqueterías\n",
    "import numpy as np\n",
    "import networkx as nx \n",
    "import matplotlib.pyplot as plt\n",
    "\n",
    "#FUNCIONES\n",
    "\n",
    "#Función que dado el vértice i arroja un arreglo con todos los vértices para los cuáles existe un camino que los une \n",
    "def Conectado(i,D,n):\n",
    "    #Inicio el contador en 0\n",
    "    t=0\n",
    "    #EL número de vértices activos el tiempo 0\n",
    "    St=1\n",
    "    M=np.copy(D)\n",
    "    activos=np.array([i],dtype=int)\n",
    "    inactivos=np.array([],dtype=int)\n",
    "    posicion=i \n",
    "    M[: ,posicion :posicion+1]=0 #Se evita que se vuelvan a comunicar con i\n",
    "    while  St>0:\n",
    "        #LOS ACTIVOS SON LOS QUE TIENEN 1 EN ESA FILA, POR ESO SUMO\n",
    "        Xt=np.sum(M[i])\n",
    "        St=St+Xt-1#St\n",
    "        t=t+1#Aumento el contador\n",
    "        #Hago el conjunto de los nuevos activos\n",
    "        nuevosactivos=[]\n",
    "        for j in range(n):\n",
    "            #Las nuevas comunicaciones sean con los neutrales    \n",
    "            if M[i][j]==1: \n",
    "                #Guardo la posición de los que tenian 1\n",
    "                nuevosactivos.append(int(j))\n",
    "                M[: ,j :j+1]=0#Si se volvió activo elimino la opción de que se comuniquen con el\n",
    "        #le quité el que ya pasó a inactivo y agrego los nuevos activos\n",
    "        activos=np.append(np.delete(activos, 0),nuevosactivos)#Siempre cero porque así lo elegí\n",
    "        inactivos=np.append(inactivos, i)#Agrego  a inactivos el explorado\n",
    "        #Puedo elegir un activo si existen aún\n",
    "        if len(activos)!=0:\n",
    "            #EN EL SIGUIENTE PASO DE LOS ACTIVOS SIEMPRE ELIGIRÉ EL PRIMERO DE MI LISTAS DE ACTIVOS\n",
    "            i=int(activos[0])\n",
    "    \n",
    "  \n",
    "    return(inactivos)\n",
    "\n",
    "\n",
    "#Función que dada la matriz de adyacencia D regresa si la cadena es Reducible o Irreducible\n",
    "def Irreducible(D):\n",
    "    # n es la constante que guarda la cantidad de estados de está cadena\n",
    "    n=len(D[1])\n",
    "    #Conjunto de Vértices\n",
    "    V=np.arange(n)\n",
    "    # Para que la cadena sea IRREDUCIBLE para cualquier estado todos se comunican con el\n",
    "    #Así que se recorrerá toda la cadena y se verificará que en cada caso cx = al conjunto de vértices\n",
    "    for i in V:\n",
    "        # Si el vértice es absorbente como sólo se comunica con el mismo ya no será la cadena Irreducible \n",
    "        if D[i,i]==1 and np.sum(D[i])==1:\n",
    "            print(\"El vértice %i\"%i,\"es ABSORBENTE (A)\")\n",
    "            print(\"La CADENA ES --->\")\n",
    "            return(\"REDUCIBLE (R) \")\n",
    "        ci=Conectado(i,D,n)\n",
    "        sci=set(ci)\n",
    "        sV=set(V)\n",
    "        if (sci==sV)==False:\n",
    "            sci=set(ci)\n",
    "            sV=set(V)\n",
    "            vn=sV-sci\n",
    "            print(\"El vértice %i\"%i,\"no se comunica con los vértices\")\n",
    "            print(vn)\n",
    "            #Significa que no todos los vértices se conectan asi que la cadena es REDUCIBLE\n",
    "            print(\"La CADENA ES --->\")\n",
    "            return(\"REDUCIBLE (R) \")\n",
    "     \n",
    "    \n",
    "    #Si llega a este punto es que todos se comunican\n",
    "    print(\"La CADENA ES --->\")\n",
    "    return(\"IRREDUCIBLE (I) \")\n",
    "\n",
    "\n",
    "\n",
    "\n",
    "#INICIO DEL PROGRAMA\n",
    "\n",
    "#IMPORTO LA MATRIZ \n",
    "sistema=np.loadtxt(\"nombredelarchivo.txt\")\n",
    "P=np.array(sistema[:])\n",
    "print(\"La Matriz de Transición importada es \\n\")\n",
    "print(P)\n",
    "print(\"\\n\")\n",
    "#Se convierte la Matriz de Transición a una Matriz D de Adyacencia\n",
    "D=np.copy(P)\n",
    "n=len(D[1])\n",
    "for i in range(n):\n",
    "    for j in range(n):\n",
    "        if P[i,j]>0:\n",
    "            D[i,j]=1\n",
    "\n",
    "print(\"La Matriz de Adyacencia asociada es \\n\")\n",
    "print(D)\n",
    "print(\"\\n\")\n",
    "\n",
    "\n",
    "#DIBUJAR EL GRAFO\n",
    "print(\"El grafo es:\\n\")\n",
    "#Creamos el grafo vacío\n",
    "#Creamos el grafo vacío\n",
    "G = nx.DiGraph()\n",
    "print(\"LEYENDA:\")\n",
    "print(\"ROJO: Absorbente\")\n",
    "print(\"AZUL: Puede acceder a sí mismo\")\n",
    "print(\"VERDE: No puede acceder a sí mismo\\n\")\n",
    "#Nodos\n",
    "n=len(D[1])\n",
    "vertices=np.arange(n)\n",
    "G.add_nodes_from(vertices)\n",
    "\n",
    "color_map = []\n",
    "for node in G:\n",
    "    if D[node][node]==1 and np.sum(D[node])==1:\n",
    "        color_map.append('red')\n",
    "    elif D[node][node]==1:\n",
    "        color_map.append('blue')\n",
    "        \n",
    "    else:\n",
    "        color_map.append('green')\n",
    "#Aristas\n",
    "for i in range(n):\n",
    "    for j in range(n):\n",
    "        if D[i][j]==1:\n",
    "           \n",
    "            G.add_edge(vertices[i],vertices[j],weight=4)\n",
    "        \n",
    "#INDICACIONES  \n",
    "nx.draw(G,node_color=color_map, with_labels=True)\n",
    "plt.show()\n",
    "\n",
    "\n",
    "#Mandamos a llamar a la función\n",
    "print(Irreducible(D))\n",
    "\n",
    "\n"
   ]
  },
  {
   "cell_type": "markdown",
   "metadata": {},
   "source": [
    " #  $\\hspace{2.5cm}$"
   ]
  },
  {
   "cell_type": "markdown",
   "metadata": {},
   "source": [
    "# <font color='black'>$\\boxplus $</font>$\\hspace{0.5cm}$<font color='blue'> $\\mathbb{ALGORITMO\\hspace{0.5cm}3}$   </font>"
   ]
  },
  {
   "cell_type": "markdown",
   "metadata": {},
   "source": [
    "<font color='green'>$\\fbox{ $\\hspace{2.5cm}$ Algoritmo PC $\\hspace{2.5cm}$ }$</font> "
   ]
  },
  {
   "cell_type": "markdown",
   "metadata": {},
   "source": [
    "Este algortimo calcula el período de un vértice $\\textbf{v}$ de la $\\textbf{Cadena de Markov}$ analizada.\n",
    "\n"
   ]
  },
  {
   "cell_type": "markdown",
   "metadata": {},
   "source": [
    " #  $\\hspace{2.5cm}$"
   ]
  },
  {
   "cell_type": "markdown",
   "metadata": {},
   "source": [
    " <font color='red'>$\\fbox{ $\\hspace{2.5cm}$ Algoritmo Implementado en lenguaje Python $\\hspace{2.5cm}$ }$</font> "
   ]
  },
  {
   "cell_type": "code",
   "execution_count": null,
   "metadata": {
    "collapsed": true
   },
   "outputs": [],
   "source": [
    "#Importación de paqueterías\n",
    "import numpy as np\n",
    "import networkx as nx \n",
    "import matplotlib.pyplot as plt\n",
    "from math import gcd\n",
    "from functools import reduce\n",
    "\n",
    "\n",
    "\n",
    "#FUNCIONES\n",
    "\n",
    "def mcd(list):\n",
    "    x = reduce(gcd, list)\n",
    "    return x\n",
    "\n",
    "     \n",
    "def Periodo(x,P):\n",
    "    if P[x,x]>0:\n",
    "        print(\"El estado %i\"%x,\"tiene período 1\")\n",
    "        return(1)\n",
    "    i=2\n",
    "    per=[]#CONTENDRÁ LOS PASOS\n",
    "    n=len(P[0])\n",
    "    Pi=np.copy(P)\n",
    "    \n",
    "    while i<n**2:\n",
    "        Pi=np.dot(Pi,P)\n",
    "        if Pi[x,x]>0:\n",
    "            per.append(i)\n",
    "            if mcd(per)==1:\n",
    "                print(\"El estado %i\"%x,\"tiene período 1\")\n",
    "                return(1)\n",
    "                     \n",
    "                  \n",
    "        i=i+1\n",
    "    print(\"Agotando el máximo de iteraciones, el período del estado %i\"%x,\"es\" )\n",
    "    return(mcd(per))              \n",
    "              \n",
    "        \n",
    "\n",
    "\n",
    "    \n",
    "#INICIO DEL PROGRAMA\n",
    "\n",
    "#IMPORTO LA MATRIZ \n",
    "sistema=np.loadtxt(\"nombredelarchivo.txt\")\n",
    "P=np.array(sistema[:])\n",
    "print(\"La Matriz de Transición importada es \\n\")\n",
    "print(P)\n",
    "print(\"\\n\")\n",
    "#Se convierte la Matriz de Transición a una Matriz D de Adyacencia\n",
    "D=np.copy(P)\n",
    "n=len(D[1])\n",
    "for i in range(n):\n",
    "    for j in range(n):\n",
    "        if P[i,j]>0:\n",
    "            D[i,j]=1\n",
    "\n",
    "print(\"La Matriz de Adyacencia asociada es \\n\")\n",
    "print(D)\n",
    "print(\"\\n\")\n",
    "\n",
    "#DIBUJAR GRAFO\n",
    "print(\"El grafo es:\\n\")\n",
    "#Creamos el grafo vacío\n",
    "#Creamos el grafo vacío\n",
    "G = nx.DiGraph()\n",
    "print(\"LEYENDA:\")\n",
    "print(\"ROJO: Absorbente\")\n",
    "print(\"AZUL: Puede acceder a sí mismo\")\n",
    "print(\"VERDE: No puede acceder a sí mismo\\n\")\n",
    "#Nodos\n",
    "n=len(P[1])\n",
    "\n",
    "vertices=np.arange(n)\n",
    "G.add_nodes_from(vertices)\n",
    "\n",
    "for i in range(n):\n",
    "    for j in range(n):\n",
    "        if P[i,j]>0:\n",
    "            D[i,j]=1\n",
    "            G.add_edge(vertices[i],vertices[j])#ARISTAS\n",
    "\n",
    "color_map = []\n",
    "for node in G:\n",
    "    if D[node][node]==1 and np.sum(D[node])==1:\n",
    "        color_map.append('red')\n",
    "    elif D[node][node]==1:\n",
    "        color_map.append('blue')\n",
    "        \n",
    "    else:\n",
    "        color_map.append('green')\n",
    "\n",
    "        \n",
    "#INDICACIONES  \n",
    "nx.draw(G,node_color=color_map, with_labels=True)\n",
    "plt.show()\n",
    "\n",
    "#DATOS\n",
    "x=int(input(\"Vértice que desee clasificar ----> \"))\n",
    "print( Periodo(x,P) )\n",
    "\n",
    "\n",
    "\n"
   ]
  },
  {
   "cell_type": "markdown",
   "metadata": {},
   "source": [
    " #  $\\hspace{2.5cm}$"
   ]
  },
  {
   "cell_type": "markdown",
   "metadata": {},
   "source": [
    "# <font color='black'>$\\boxplus $</font>$\\hspace{0.5cm}$<font color='blue'> $\\mathbb{ALGORITMO\\hspace{0.5cm}3\\hspace{0.5cm}GENERAL}$   </font>"
   ]
  },
  {
   "cell_type": "markdown",
   "metadata": {},
   "source": [
    "Este algortimo calcula el período de  la $\\textbf{Cadena de Markov}$ analizada.\n",
    "\n"
   ]
  },
  {
   "cell_type": "markdown",
   "metadata": {},
   "source": [
    " #  $\\hspace{2.5cm}$"
   ]
  },
  {
   "cell_type": "markdown",
   "metadata": {},
   "source": [
    " <font color='red'>$\\fbox{ $\\hspace{2.5cm}$ Algoritmo Implementado en lenguaje Python $\\hspace{2.5cm}$ }$</font> "
   ]
  },
  {
   "cell_type": "code",
   "execution_count": null,
   "metadata": {
    "collapsed": true
   },
   "outputs": [],
   "source": [
    "#Importación de paqueterías\n",
    "import numpy as np\n",
    "import networkx as nx \n",
    "import matplotlib.pyplot as plt\n",
    "from math import gcd\n",
    "from functools import reduce\n",
    "\n",
    "#FUNCIONES\n",
    "\n",
    "#Función que dado el vértice i arroja un arreglo con todos los vértices para los cuáles existe un camino que los une \n",
    "def Conectado(i,D,n):\n",
    "    #Inicio el contador en 0\n",
    "    t=0\n",
    "    #EL número de vértices activos el tiempo 0\n",
    "    St=1\n",
    "    M=np.copy(D)\n",
    "    activos=np.array([i],dtype=int)\n",
    "    inactivos=np.array([],dtype=int)\n",
    "    posicion=i \n",
    "    M[: ,posicion :posicion+1]=0 #Se evita que se vuelvan a comunicar con i\n",
    "    while  St>0:\n",
    "        #LOS ACTIVOS SON LOS QUE TIENEN 1 EN ESA FILA, POR ESO SUMO\n",
    "        Xt=np.sum(M[i])\n",
    "        St=St+Xt-1#St\n",
    "        t=t+1#Aumento el contador\n",
    "        #Hago el conjunto de los nuevos activos\n",
    "        nuevosactivos=[]\n",
    "        for j in range(n):\n",
    "            #Las nuevas comunicaciones sean con los neutrales    \n",
    "            if M[i][j]==1: \n",
    "                #Guardo la posición de los que tenian 1\n",
    "                nuevosactivos.append(int(j))\n",
    "                M[: ,j :j+1]=0#Si se volvió activo elimino la opción de que se comuniquen con el\n",
    "        #le quité el que ya pasó a inactivo y agrego los nuevos activos\n",
    "        activos=np.append(np.delete(activos, 0),nuevosactivos)#Siempre cero porque así lo elegí\n",
    "        inactivos=np.append(inactivos, i)#Agrego  a inactivos el explorado\n",
    "        #Puedo elegir un activo si existen aún\n",
    "        if len(activos)!=0:\n",
    "            #EN EL SIGUIENTE PASO DE LOS ACTIVOS SIEMPRE ELIGIRÉ EL PRIMERO DE MI LISTAS DE ACTIVOS\n",
    "            i=int(activos[0])\n",
    "    \n",
    "  \n",
    "    return(inactivos)\n",
    "\n",
    "\n",
    "#Función que dada la matriz de adyacencia D regresa si la cadena es Reducible o Irreducible\n",
    "def Irreducible(D):\n",
    "    # n es la constante que guarda la cantidad de estados de está cadena\n",
    "    n=len(D[1])\n",
    "    #Conjunto de Vértices\n",
    "    V=np.arange(n)\n",
    "    # Para que la cadena sea IRREDUCIBLE para cualquier estado todos se comunican con el\n",
    "    #Así que se recorrerá toda la cadena y se verificará que en cada caso cx = al conjunto de vértices\n",
    "    for i in V:\n",
    "        # Si el vértice es absorbente como sólo se comunica con el mismo ya no será la cadena Irreducible \n",
    "        if D[i,i]==1 and np.sum(D[i])==1:\n",
    "            return(0)\n",
    "        ci=Conectado(i,D,n)\n",
    "        sci=set(ci)\n",
    "        sV=set(V)\n",
    "        if (sci==sV)==False:\n",
    "            #Significa que no todos los vértices se conectan asi que la cadena es REDUCIBLE\n",
    "            return(0)\n",
    "     \n",
    "    \n",
    "    #Si llega a este punto es que todos se comunican\n",
    "    return(1)\n",
    "\n",
    "\n",
    "def mcd(list):\n",
    "    x = reduce(gcd, list)\n",
    "    return x\n",
    "\n",
    "     \n",
    "def Periodo(x,P):\n",
    "    if P[x,x]>0:\n",
    "        return(1)\n",
    "    i=2\n",
    "    per=[]#CONTENDRÁ LOS PASOS\n",
    "    n=len(P[0])\n",
    "    Pi=np.copy(P)\n",
    "    \n",
    "    while i<n**2:\n",
    "        Pi=np.dot(Pi,P)\n",
    "        if Pi[x,x]>0:\n",
    "            per.append(i)\n",
    "            if mcd(per)==1:\n",
    "                return(1)\n",
    "                     \n",
    "                  \n",
    "        i=i+1\n",
    "    \n",
    "    return(mcd(per))              \n",
    "              \n",
    "        \n",
    "\n",
    "#INICIO DEL PROGRAMA\n",
    "\n",
    "#IMPORTO LA MATRIZ \n",
    "sistema=np.loadtxt(\"MATRIZGRAFO1.txt\")\n",
    "P=np.array(sistema[:])\n",
    "print(\"La Matriz de Transición importada es \\n\")\n",
    "print(P)\n",
    "print(\"\\n\")\n",
    "#Se convierte la Matriz de Transición a una Matriz D de Adyacencia\n",
    "D=np.copy(P)\n",
    "n=len(D[1])\n",
    "for i in range(n):\n",
    "    for j in range(n):\n",
    "        if P[i,j]>0:\n",
    "            D[i,j]=1\n",
    "\n",
    "print(\"La Matriz de Adyacencia asociada es \\n\")\n",
    "print(D)\n",
    "print(\"\\n\")\n",
    "\n",
    "#DIBUJAR GRAFO\n",
    "print(\"El grafo es:\\n\")\n",
    "#Creamos el grafo vacío\n",
    "#Creamos el grafo vacío\n",
    "G = nx.DiGraph()\n",
    "print(\"LEYENDA:\")\n",
    "print(\"ROJO: Absorbente\")\n",
    "print(\"AZUL: Puede acceder a sí mismo\")\n",
    "print(\"VERDE: No puede acceder a sí mismo\\n\")\n",
    "#Nodos\n",
    "n=len(P[1])\n",
    "\n",
    "vertices=np.arange(n)\n",
    "G.add_nodes_from(vertices)\n",
    "\n",
    "for i in range(n):\n",
    "    for j in range(n):\n",
    "        if P[i,j]>0:\n",
    "            D[i,j]=1\n",
    "            G.add_edge(vertices[i],vertices[j])#ARISTAS\n",
    "\n",
    "color_map = []\n",
    "for node in G:\n",
    "    if D[node][node]==1 and np.sum(D[node])==1:\n",
    "        color_map.append('red')\n",
    "    elif D[node][node]==1:\n",
    "        color_map.append('blue')\n",
    "        \n",
    "    else:\n",
    "        color_map.append('green')\n",
    "\n",
    "        \n",
    "#INDICACIONES  \n",
    "nx.draw(G,node_color=color_map, with_labels=True)\n",
    "plt.show()\n",
    "\n",
    "#DATOS\n",
    "resul=Irreducible(D)\n",
    "if resul==1:\n",
    "    per=Periodo(0,P)\n",
    "    print(\"El período de la cadena es %i\"%per)\n",
    "else:\n",
    "    print(\"La Cadena es Reducible no existe el período\")\n",
    "    \n",
    "    \n",
    "    \n",
    "\n",
    "\n",
    "\n",
    "\n",
    "\n"
   ]
  },
  {
   "cell_type": "markdown",
   "metadata": {},
   "source": [
    " #  $\\hspace{2.5cm}$"
   ]
  },
  {
   "cell_type": "markdown",
   "metadata": {},
   "source": [
    "# <font color='black'>$\\boxplus $</font>$\\hspace{0.5cm}$<font color='blue'> $\\mathbb{ALGORITMO\\hspace{0.5cm}4}$   </font>"
   ]
  },
  {
   "cell_type": "markdown",
   "metadata": {},
   "source": [
    "<font color='green'>$\\fbox{ $\\hspace{2.5cm}$ Algoritmo CDL $\\hspace{2.5cm}$ }$</font> "
   ]
  },
  {
   "cell_type": "markdown",
   "metadata": {},
   "source": [
    "Este algortimo estudia la existencia de la Distribución Límite asociada a la $\\textbf{Cadena de Markov}$ analizada.\n"
   ]
  },
  {
   "cell_type": "markdown",
   "metadata": {},
   "source": [
    " #  $\\hspace{2.5cm}$"
   ]
  },
  {
   "cell_type": "markdown",
   "metadata": {},
   "source": [
    " <font color='red'>$\\fbox{ $\\hspace{2.5cm}$ Algoritmo Implementado en lenguaje Python $\\hspace{2.5cm}$ }$</font> "
   ]
  },
  {
   "cell_type": "code",
   "execution_count": null,
   "metadata": {
    "collapsed": true
   },
   "outputs": [],
   "source": [
    "#Importación de paqueterías\n",
    "import numpy as np\n",
    "import networkx as nx \n",
    "import matplotlib.pyplot as plt\n",
    "from functools import reduce\n",
    "from math import gcd\n",
    "\n",
    "\n",
    "#FUNCIONES\n",
    "\n",
    "#Función que dado el vértice i arroja un arreglo con todos los vértices para los cuáles existe un camino que los une \n",
    "def Conectado(i,D,n):\n",
    "    #Inicio el contador en 0\n",
    "    t=0\n",
    "    #EL número de vértices activos el tiempo 0\n",
    "    St=1\n",
    "    M=np.copy(D)\n",
    "    activos=np.array([i],dtype=int)\n",
    "    inactivos=np.array([],dtype=int)\n",
    "    posicion=i \n",
    "    M[: ,posicion :posicion+1]=0 #Se evita que se vuelvan a comunicar con i\n",
    "    while  St>0:\n",
    "        #LOS ACTIVOS SON LOS QUE TIENEN 1 EN ESA FILA, POR ESO SUMO\n",
    "        Xt=np.sum(M[i])\n",
    "        St=St+Xt-1#St\n",
    "        t=t+1#Aumento el contador\n",
    "        #Hago el conjunto de los nuevos activos\n",
    "        nuevosactivos=[]\n",
    "        for j in range(n):\n",
    "            #Las nuevas comunicaciones sean con los neutrales    \n",
    "            if M[i][j]==1: \n",
    "                #Guardo la posición de los que tenian 1\n",
    "                nuevosactivos.append(int(j))\n",
    "                M[: ,j :j+1]=0#Si se volvió activo elimino la opción de que se comuniquen con el\n",
    "        #le quité el que ya pasó a inactivo y agrego los nuevos activos\n",
    "        activos=np.append(np.delete(activos, 0),nuevosactivos)#Siempre cero porque así lo elegí\n",
    "        inactivos=np.append(inactivos, i)#Agrego  a inactivos el explorado\n",
    "        #Puedo elegir un activo si existen aún\n",
    "        if len(activos)!=0:\n",
    "            #EN EL SIGUIENTE PASO DE LOS ACTIVOS SIEMPRE ELIGIRÉ EL PRIMERO DE MI LISTAS DE ACTIVOS\n",
    "            i=int(activos[0])\n",
    "    \n",
    "  \n",
    "    return(inactivos)\n",
    "\n",
    "\n",
    "#Función que dada la matriz de adyacencia D regresa si la cadena es Reducible o Irreducible\n",
    "def Irreducible(D):\n",
    "    # n es la constante que guarda la cantidad de estados de está cadena\n",
    "    n=len(D[1])\n",
    "    #Conjunto de Vértices\n",
    "    V=np.arange(n)\n",
    "    # Para que la cadena sea IRREDUCIBLE para cualquier estado todos se comunican con el\n",
    "    #Así que se recorrerá toda la cadena y se verificará que en cada caso cx = al conjunto de vértices\n",
    "    for i in V:\n",
    "        # Si el vértice es absorbente como sólo se comunica con el mismo ya no será la cadena Irreducible \n",
    "        if D[i,i]==1 and np.sum(D[i])==1:\n",
    "            return(0)\n",
    "        ci=Conectado(i,D,n)\n",
    "        sci=set(ci)\n",
    "        sV=set(V)\n",
    "        if (sci==sV)==False:\n",
    "            #Significa que no todos los vértices se conectan asi que la cadena es REDUCIBLE\n",
    "            return(0)\n",
    "     \n",
    "    \n",
    "    #Si llega a este punto es que todos se comunican\n",
    "    return(1)\n",
    "\n",
    "     \n",
    "def mcd(list):\n",
    "    x = reduce(gcd, list)\n",
    "    return x\n",
    "\n",
    "     \n",
    "def Periodo(x,P):\n",
    "    if P[x,x]>0:\n",
    "        return(1)\n",
    "    i=2\n",
    "    per=[]#CONTENDRÁ LOS PASOS\n",
    "    n=len(P[0])\n",
    "    Pi=np.copy(P)\n",
    "    \n",
    "    while i<n**2:\n",
    "        Pi=np.dot(Pi,P)\n",
    "        if Pi[x,x]>0:\n",
    "            per.append(i)\n",
    "            if mcd(per)==1:\n",
    "                return(1)\n",
    "                     \n",
    "                  \n",
    "        i=i+1\n",
    "    \n",
    "    return(mcd(per))              \n",
    "              \n",
    "#Devuelve la clasificación con 1 y 0 / la clase a la que pertenece , si es Transitorio devuelve un 1 como la clase      \n",
    "def ClasificacionClases(x,D):\n",
    "    #Primero preguntamos si el estado sólo se comunica con el mismo, como la matriz es binaria para esto debe pasar que sea 1 en la posición y 0 en las restantes\n",
    "    if D[x,x]==1 and np.sum(D[x])==1:\n",
    "        return(1,[x])\n",
    "    #Como el estado no es absorbente se prosigue con los dos posibles casos restantes\n",
    "    n=len(D[1])\n",
    "    # cx es el arreglo que guarda todos los estados para los cuales partiendo de x hay un camino a ellos\n",
    "    cx=Conectado(x,D,n)\n",
    "    \n",
    "   #En el ciclo a continuación recorro los elementos del arreglo cx\n",
    "    \n",
    "    for j in cx:\n",
    "        #Para cada elemento de cx me interesa saber si partiendo de el ahora hay un camino que termine en x\n",
    "        cj=Conectado(j,D,n)\n",
    "        #Para esto llamo a la función en j \n",
    "        #Ahora el arreglo cj de forma análoga contiene los vértices para los cuáles existe un camino que los une (j - x)\n",
    "        \n",
    "            \n",
    "            \n",
    "        #Si x no está en ese arreglo , es decir no existe un camino que los une (j - x)\n",
    "        if (x in cj)==False:\n",
    "            \n",
    "            return(0,1)\n",
    "        \n",
    "    #Si se llega a este punto es que se salió del for sin retornar nada es decir \n",
    "    #x está en todos los arreglos cj , es decir no existe un camino de no retorno, por eso x es recurrente \n",
    "    # Y tenemos una clase utilizando que si x es recurrente y x se comunica con y entonces y es recurrente \n",
    "    \n",
    "    return(1,list(np.sort(cx)))\n",
    "\n",
    "#Calcula el númera de clases de la Cadena\n",
    "def NumerodeClases(D):\n",
    "    c=[]\n",
    "    n=len(D[0])\n",
    "    for x in range(n):\n",
    "        resul,cx=ClasificacionClases(x,D)\n",
    "       \n",
    "        if resul==1:\n",
    "            if (cx in c)==False:\n",
    "                c.append(cx)\n",
    "                \n",
    "    return(len(c),c)\n",
    "    \n",
    "#Calcula a distrubución Estacionaria Asociada a la Matriz P    \n",
    "def DistribucionEstacionaria(P):\n",
    "    # ce es una variable que define la cantidad de estados de la cadena\n",
    "    ce=len(P[0])\n",
    "    #Proceso para crear la matriz A^t que verifica el sistema ya modificado xA^t=b\n",
    "    #Le resto la matriz identidad\n",
    "    B=P-np.identity(ce)\n",
    "    #Creo la columna para agregar a la matriz B ( que contiene que sea distribucion )\n",
    "    columna=np.ones((ce,1))\n",
    "    #Genero l matriz A^t agregando la columna a B\n",
    "    At=np.append(B,columna,axis=1)\n",
    "    #Genero la matriz A\n",
    "    A=At.transpose()\n",
    "    #Genero el vector b que tiene tantos lugares como los estados + 1 y en el último lugar un 1\n",
    "    b=np.zeros(ce+1)\n",
    "    b[ce]=1\n",
    "    #Se hacen los cambios para llevar a un sistema cuadrado\n",
    "    M=np.dot(At,A)\n",
    "    Mb=np.dot(At,b)\n",
    "    #Mx=Mb\n",
    "    dis=np.linalg.solve(M, Mb)\n",
    "    return(dis)\n",
    "#Calcula dada la matriz original P la matriz asociada a la clase l    \n",
    "def MatrizClase(l,P):\n",
    "    #El número de estados\n",
    "    numerodeestados=len(P[0])\n",
    "    #Genero al arreglo que contiene los estados\n",
    "    v=np.arange(numerodeestados)\n",
    "    #la clase es l\n",
    "    #Convierto a l y v en conjuntos\n",
    "    ls=set(l)\n",
    "    vs=set(v)\n",
    "    #Aplico la operación diferencia\n",
    "    #El conjunto quitar contiene los estados que no forman parte de la clase\n",
    "    quitar=vs-ls\n",
    "    #Convierto el conjunto quitar en una lista\n",
    "    li=list(quitar)\n",
    "    #Elimino de la Matriz de transición las filas y columnas asociadas a los estados en la lista quitar\n",
    "    P=np.delete(P,li,0)\n",
    "    P=np.delete(P,li,1)\n",
    "    return(P)\n",
    "    \n",
    "def Todo(D,P):\n",
    "    #Primero se cuestiona si la Cadena es IRREDUCIBLE\n",
    "    if Irreducible(D)==1:\n",
    "        #Al trabajar con Cadenas finitas se tiene al menos un estado recurrente positivo\n",
    "        #Si entra en este apartado todos los estados son recurrentes positivos\n",
    "        #Se cuestiona si la cadena es APERÍODICA\n",
    "        if Periodo(D)==1:\n",
    "            \n",
    "            print(\"Existe la distribución límite\\n\")\n",
    "            print(\"La distribución límite es:\",DistribucionEstacionaria(P))\n",
    "            \n",
    "        else:\n",
    "            print(\"NO Existe la distribución límite\\n\")\n",
    "            print(\"Se aplicaría el TEOREMA 1.8.5 con:\\n\")\n",
    "            print(P)\n",
    "            print(Periodo(D))\n",
    "            print(DistribucionEstacionaria(P))\n",
    "            \n",
    "    \n",
    "    else:\n",
    "            nc,c=NumerodeClases(D)\n",
    "            \n",
    "            if nc==1:\n",
    "                if Periodo(D)==1:\n",
    "                    print(\"Existe la distribución límite\\n\")\n",
    "                    print(\"La distribución límite es:\",DistribucionEstacionaria(P))\n",
    "                else:\n",
    "                    print(\"NO Existe la distribución límite\\n\")\n",
    "                    print(\"Se aplicaría el TEOREMA 1.8.5 con:\\n\")\n",
    "                    print(P)\n",
    "                    print(Periodo(D))\n",
    "                    print(DistribucionEstacionaria(P))\n",
    "            \n",
    "               \n",
    "            else:\n",
    "                print(\"Existen infinitas distribuciones límites ya que que hay al menos dos clases en la Cadena\\n\")\n",
    "                print(\"El número de clases son %i\"%nc)\n",
    "                print(\"Las clases son :\\n\")\n",
    "                for i in range(nc):\n",
    "                    print(\"Clase %i\"%(i+1))\n",
    "                    print(c[i])\n",
    "                    print(\"Con Matriz Asociada\")\n",
    "                    Ma=MatrizClase(c[i],P)\n",
    "                    print(Ma)\n",
    "                    print(\"Con distribución límite asociada\" )\n",
    "                    print( DistribucionEstacionaria(Ma))\n",
    "                    print(\"\\n\")\n",
    "                \n",
    "\n",
    "\n",
    "#INICIO DEL PROGRAMA\n",
    "\n",
    "#IMPORTO LA MATRIZ \n",
    "sistema=np.loadtxt(\"MATRIZT1.txt\")\n",
    "P=np.array(sistema[:])\n",
    "print(\"La Matriz de Transición importada es \\n\")\n",
    "print(P)\n",
    "print(\"\\n\")\n",
    "#Se convierte la Matriz de Transición a una Matriz D de Adyacencia\n",
    "D=np.copy(P)\n",
    "n=len(D[1])\n",
    "for i in range(n):\n",
    "    for j in range(n):\n",
    "        if P[i,j]>0:\n",
    "            D[i,j]=1\n",
    "\n",
    "print(\"La Matriz de Adyacencia asociada es \\n\")\n",
    "print(D)\n",
    "print(\"\\n\")\n",
    "\n",
    "#DIBUJAR\n",
    "print(\"El grafo es:\\n\")\n",
    "G = nx.DiGraph()\n",
    "print(\"LEYENDA:\")\n",
    "print(\"ROJO: Absorbente\")\n",
    "print(\"AZUL: Puede acceder a sí mismo\")\n",
    "print(\"VERDE: No puede acceder a sí mismo\\n\")\n",
    "#Nodos\n",
    "\n",
    "vertices=np.arange(n)\n",
    "G.add_nodes_from(vertices)\n",
    "\n",
    "color_map = []\n",
    "for node in G:\n",
    "    if D[node][node]==1 and np.sum(D[node])==1:\n",
    "        color_map.append('red')\n",
    "    elif D[node][node]==1:\n",
    "        color_map.append('blue')\n",
    "        \n",
    "    else:\n",
    "        color_map.append('green')\n",
    "#Aristas\n",
    "for i in range(n):\n",
    "    for j in range(n):\n",
    "        if D[i][j]==1:\n",
    "           \n",
    "            G.add_edge(vertices[i],vertices[j],weight=4)\n",
    "        \n",
    "#INDICACIONES  \n",
    "nx.draw(G,node_color=color_map, with_labels=True)\n",
    "plt.show()\n",
    "\n",
    "#Datos\n",
    "#LLamado a la Función\n",
    "Todo(D,P)\n",
    "\n",
    "\n"
   ]
  },
  {
   "cell_type": "markdown",
   "metadata": {},
   "source": [
    " #  $\\hspace{2.5cm}$"
   ]
  },
  {
   "cell_type": "markdown",
   "metadata": {},
   "source": [
    "#   <font color='blue'>$\\bullet$$\\bullet$$\\bullet$$\\bullet$$\\bullet$$\\bullet$$\\bullet$$\\bullet$$\\bullet$$\\bullet$$\\bullet$$\\bullet$$\\bullet$$\\bullet$$\\bullet$$\\bullet$$\\bullet$$\\bullet$$\\bullet$$\\bullet$$\\bullet$$\\bullet$$\\bullet$$\\bullet$$\\bullet$$\\bullet$$\\bullet$$\\bullet$$\\bullet$$\\bullet$$\\bullet$$\\bullet$$\\bullet$$\\bullet$$\\bullet$$\\bullet$$\\bullet$$\\bullet$$\\bullet$$\\bullet$$\\bullet$$\\bullet$$\\bullet$$\\bullet$$\\bullet$$\\bullet$$\\bullet$$\\bullet$$\\bullet$$\\bullet$$\\bullet$$\\bullet$$\\bullet$$\\bullet$$\\bullet$$\\bullet$$\\bullet$$\\bullet$$\\bullet$$\\bullet$$\\bullet$$\\bullet$$\\bullet$$\\bullet$$\\bullet$$\\bullet$$\\bullet$$\\bullet$$\\bullet$$\\bullet$$\\bullet$$\\bullet$$\\bullet$$\\bullet$$\\bullet$$\\bullet$$\\bullet$$\\bullet$$\\bullet$$\\bullet$$\\bullet$$\\bullet$$\\bullet$$\\bullet$$\\bullet$$\\bullet$$\\bullet$$\\bullet$$\\bullet$</font>\n"
   ]
  },
  {
   "cell_type": "markdown",
   "metadata": {},
   "source": [
    "<img src=\"buena.png\">"
   ]
  }
 ],
 "metadata": {
  "kernelspec": {
   "display_name": "Python 3",
   "language": "python",
   "name": "python3"
  },
  "language_info": {
   "codemirror_mode": {
    "name": "ipython",
    "version": 3
   },
   "file_extension": ".py",
   "mimetype": "text/x-python",
   "name": "python",
   "nbconvert_exporter": "python",
   "pygments_lexer": "ipython3",
   "version": "3.5.1"
  }
 },
 "nbformat": 4,
 "nbformat_minor": 0
}
